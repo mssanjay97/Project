{
  "nbformat": 4,
  "nbformat_minor": 0,
  "metadata": {
    "colab": {
      "name": "inception net.ipynb",
      "version": "0.3.2",
      "provenance": [],
      "collapsed_sections": []
    },
    "kernelspec": {
      "name": "python3",
      "display_name": "Python 3"
    },
    "accelerator": "GPU"
  },
  "cells": [
    {
      "cell_type": "code",
      "metadata": {
        "id": "GVeHmCjHKdn2",
        "colab_type": "code",
        "outputId": "af4f2a26-ba58-4487-c962-845b0af98c3e",
        "colab": {
          "base_uri": "https://localhost:8080/",
          "height": 204
        }
      },
      "source": [
        "!pip install kaggle\n"
      ],
      "execution_count": 0,
      "outputs": [
        {
          "output_type": "stream",
          "text": [
            "Requirement already satisfied: kaggle in /usr/local/lib/python3.6/dist-packages (1.5.3)\n",
            "Requirement already satisfied: urllib3<1.25,>=1.21.1 in /usr/local/lib/python3.6/dist-packages (from kaggle) (1.22)\n",
            "Requirement already satisfied: six>=1.10 in /usr/local/lib/python3.6/dist-packages (from kaggle) (1.11.0)\n",
            "Requirement already satisfied: certifi in /usr/local/lib/python3.6/dist-packages (from kaggle) (2019.3.9)\n",
            "Requirement already satisfied: python-dateutil in /usr/local/lib/python3.6/dist-packages (from kaggle) (2.5.3)\n",
            "Requirement already satisfied: requests in /usr/local/lib/python3.6/dist-packages (from kaggle) (2.18.4)\n",
            "Requirement already satisfied: tqdm in /usr/local/lib/python3.6/dist-packages (from kaggle) (4.28.1)\n",
            "Requirement already satisfied: python-slugify in /usr/local/lib/python3.6/dist-packages (from kaggle) (3.0.1)\n",
            "Requirement already satisfied: idna<2.7,>=2.5 in /usr/local/lib/python3.6/dist-packages (from requests->kaggle) (2.6)\n",
            "Requirement already satisfied: chardet<3.1.0,>=3.0.2 in /usr/local/lib/python3.6/dist-packages (from requests->kaggle) (3.0.4)\n",
            "Requirement already satisfied: text-unidecode==1.2 in /usr/local/lib/python3.6/dist-packages (from python-slugify->kaggle) (1.2)\n"
          ],
          "name": "stdout"
        }
      ]
    },
    {
      "cell_type": "code",
      "metadata": {
        "id": "SdAZxp92KiEs",
        "colab_type": "code",
        "colab": {}
      },
      "source": [
        "!mkdir .kaggle\n"
      ],
      "execution_count": 0,
      "outputs": []
    },
    {
      "cell_type": "code",
      "metadata": {
        "id": "VTT2fQxnKjRk",
        "colab_type": "code",
        "colab": {}
      },
      "source": [
        "import json\n",
        "token = {\"username\":\"mssanjay\",\"key\":\"63500b560696ce791d6ad3363a760246\"}\n",
        "with open('/content/.kaggle/kaggle.json', 'w') as file:\n",
        "    json.dump(token, file)"
      ],
      "execution_count": 0,
      "outputs": []
    },
    {
      "cell_type": "code",
      "metadata": {
        "id": "nOC1prteKktK",
        "colab_type": "code",
        "colab": {}
      },
      "source": [
        "!chmod 600 /content/.kaggle/kaggle.json\n"
      ],
      "execution_count": 0,
      "outputs": []
    },
    {
      "cell_type": "code",
      "metadata": {
        "id": "y4AOXZgUKlzq",
        "colab_type": "code",
        "colab": {}
      },
      "source": [
        "!cp /content/.kaggle/kaggle.json ~/.kaggle/kaggle.json\n"
      ],
      "execution_count": 0,
      "outputs": []
    },
    {
      "cell_type": "code",
      "metadata": {
        "id": "FhBYZvrdKnHx",
        "colab_type": "code",
        "outputId": "26b8331f-73fa-4318-ad88-76e5e539e804",
        "colab": {
          "base_uri": "https://localhost:8080/",
          "height": 34
        }
      },
      "source": [
        "!kaggle config set -n path -v{/content}\n"
      ],
      "execution_count": 0,
      "outputs": [
        {
          "output_type": "stream",
          "text": [
            "- path is now set to: {/content}\n"
          ],
          "name": "stdout"
        }
      ]
    },
    {
      "cell_type": "code",
      "metadata": {
        "id": "0Ecx_CzxKoY0",
        "colab_type": "code",
        "outputId": "a234a575-ce6b-46e8-b2fe-65c2a3003939",
        "colab": {
          "base_uri": "https://localhost:8080/",
          "height": 68
        }
      },
      "source": [
        "!kaggle datasets download -d tentotheminus9/seti-data -p/content\n"
      ],
      "execution_count": 0,
      "outputs": [
        {
          "output_type": "stream",
          "text": [
            "Downloading seti-data.zip to /content\n",
            "100% 5.25G/5.25G [01:38<00:00, 35.5MB/s]\n",
            "100% 5.25G/5.25G [01:38<00:00, 57.3MB/s]\n"
          ],
          "name": "stdout"
        }
      ]
    },
    {
      "cell_type": "code",
      "metadata": {
        "id": "IlMnjfgGKqId",
        "colab_type": "code",
        "outputId": "b653f411-158b-4bf9-d2a5-4d67eee97e10",
        "colab": {
          "base_uri": "https://localhost:8080/",
          "height": 68
        }
      },
      "source": [
        "!unzip \\*.zip"
      ],
      "execution_count": 0,
      "outputs": [
        {
          "output_type": "stream",
          "text": [
            "Archive:  seti-data.zip\n",
            "  inflating: primary_small_v3.zip    \n",
            "  inflating: primary_small.zip       \n"
          ],
          "name": "stdout"
        }
      ]
    },
    {
      "cell_type": "code",
      "metadata": {
        "id": "sY4xkIUMKwIc",
        "colab_type": "code",
        "outputId": "31e9e7e5-d659-4e88-8ca7-34ab9681c2c6",
        "colab": {
          "base_uri": "https://localhost:8080/",
          "height": 34
        }
      },
      "source": [
        "ls"
      ],
      "execution_count": 0,
      "outputs": [
        {
          "output_type": "stream",
          "text": [
            "primary_small_v3.zip  primary_small.zip  \u001b[0m\u001b[01;34msample_data\u001b[0m/  seti-data.zip\n"
          ],
          "name": "stdout"
        }
      ]
    },
    {
      "cell_type": "code",
      "metadata": {
        "id": "DDrMy-BKKxwg",
        "colab_type": "code",
        "colab": {}
      },
      "source": [
        "rm primary_small_v3.zip"
      ],
      "execution_count": 0,
      "outputs": []
    },
    {
      "cell_type": "code",
      "metadata": {
        "id": "LxNIYVroKzEN",
        "colab_type": "code",
        "outputId": "14f8c53b-5d56-45f9-da28-fc2131df47b1",
        "colab": {
          "base_uri": "https://localhost:8080/",
          "height": 34
        }
      },
      "source": [
        "ls"
      ],
      "execution_count": 0,
      "outputs": [
        {
          "output_type": "stream",
          "text": [
            "primary_small.zip  \u001b[0m\u001b[01;34msample_data\u001b[0m/  seti-data.zip\n"
          ],
          "name": "stdout"
        }
      ]
    },
    {
      "cell_type": "code",
      "metadata": {
        "id": "3qo5wmpXK0T6",
        "colab_type": "code",
        "outputId": "b5b15934-9298-4d4f-d076-ab8ebb1c08cc",
        "colab": {
          "base_uri": "https://localhost:8080/",
          "height": 51
        }
      },
      "source": [
        "!unzip \\*.zip"
      ],
      "execution_count": 0,
      "outputs": [
        {
          "output_type": "stream",
          "text": [
            "Archive:  seti-data.zip\n",
            "  inflating: primary_small_v3.zip    "
          ],
          "name": "stdout"
        }
      ]
    },
    {
      "cell_type": "code",
      "metadata": {
        "id": "_Wsf_c1dK1Vc",
        "colab_type": "code",
        "colab": {}
      },
      "source": [
        "import numpy as np\n",
        "import cv2\n",
        "import matplotlib.pyplot as plt"
      ],
      "execution_count": 0,
      "outputs": []
    },
    {
      "cell_type": "code",
      "metadata": {
        "id": "xJ3icBE6K25e",
        "colab_type": "code",
        "colab": {}
      },
      "source": [
        "def pp(img,gray=False):\n",
        "    img = cv2.resize(img, (224, 224))\n",
        "    if gray:\n",
        "      img = cv2.cvtColor(img, cv2.COLOR_BGR2GRAY)\n",
        "    mean = np.mean(img)\n",
        "    std = np.std(img)\n",
        "    imag = np.clip(img, mean-3.5*std, mean+3.5*std)\n",
        "  \n",
        "    img = cv2.morphologyEx(img, cv2.MORPH_CLOSE, kernel=np.ones((3, 3), dtype=np.float32))\n",
        "    x = cv2.Sobel(img, cv2.CV_64F, 1, 0, 2)\n",
        "    y = cv2.Sobel(img, cv2.CV_64F, 0, 1, 2)\n",
        "    img = cv2.addWeighted(src1=x, alpha=0.7, src2=y, beta=0.3, gamma=0)\n",
        "    img = img.reshape(224, 224, 1)\n",
        "    img = img/255\n",
        "    return img"
      ],
      "execution_count": 0,
      "outputs": []
    },
    {
      "cell_type": "code",
      "metadata": {
        "id": "t83mRRHwK4gf",
        "colab_type": "code",
        "colab": {}
      },
      "source": [
        "from keras.preprocessing.image import ImageDataGenerator\n",
        "\n",
        "train_gen=ImageDataGenerator(width_shift_range=0.01,\n",
        "                                 height_shift_range=0.01,\n",
        "                                 zoom_range=0.01,\n",
        "                                 shear_range=0.01,\n",
        "                                 horizontal_flip=True,\n",
        "                                 vertical_flip=True,\n",
        "                                 preprocessing_function=pp,\n",
        "                                 rotation_range=3.0)"
      ],
      "execution_count": 0,
      "outputs": []
    },
    {
      "cell_type": "code",
      "metadata": {
        "id": "9Lzu6wvrK94c",
        "colab_type": "code",
        "outputId": "5e47681c-9a2c-46ab-aa3b-87b593b735e3",
        "colab": {
          "base_uri": "https://localhost:8080/",
          "height": 455
        }
      },
      "source": [
        "import os\n",
        "import itertools\n",
        "import time\n",
        "train=train_gen.flow_from_directory(directory=os.path.join(\"train\"),target_size=(224,224),batch_size=50,color_mode=\"grayscale\")"
      ],
      "execution_count": 0,
      "outputs": [
        {
          "output_type": "error",
          "ename": "FileNotFoundError",
          "evalue": "ignored",
          "traceback": [
            "\u001b[0;31m---------------------------------------------------------------------------\u001b[0m",
            "\u001b[0;31mFileNotFoundError\u001b[0m                         Traceback (most recent call last)",
            "\u001b[0;32m<ipython-input-36-354bbe6900cc>\u001b[0m in \u001b[0;36m<module>\u001b[0;34m()\u001b[0m\n\u001b[1;32m      2\u001b[0m \u001b[0;32mimport\u001b[0m \u001b[0mitertools\u001b[0m\u001b[0;34m\u001b[0m\u001b[0;34m\u001b[0m\u001b[0m\n\u001b[1;32m      3\u001b[0m \u001b[0;32mimport\u001b[0m \u001b[0mtime\u001b[0m\u001b[0;34m\u001b[0m\u001b[0;34m\u001b[0m\u001b[0m\n\u001b[0;32m----> 4\u001b[0;31m \u001b[0mtrain\u001b[0m\u001b[0;34m=\u001b[0m\u001b[0mtrain_gen\u001b[0m\u001b[0;34m.\u001b[0m\u001b[0mflow_from_directory\u001b[0m\u001b[0;34m(\u001b[0m\u001b[0mdirectory\u001b[0m\u001b[0;34m=\u001b[0m\u001b[0mos\u001b[0m\u001b[0;34m.\u001b[0m\u001b[0mpath\u001b[0m\u001b[0;34m.\u001b[0m\u001b[0mjoin\u001b[0m\u001b[0;34m(\u001b[0m\u001b[0;34m\"train\"\u001b[0m\u001b[0;34m)\u001b[0m\u001b[0;34m,\u001b[0m\u001b[0mtarget_size\u001b[0m\u001b[0;34m=\u001b[0m\u001b[0;34m(\u001b[0m\u001b[0;36m224\u001b[0m\u001b[0;34m,\u001b[0m\u001b[0;36m224\u001b[0m\u001b[0;34m)\u001b[0m\u001b[0;34m,\u001b[0m\u001b[0mbatch_size\u001b[0m\u001b[0;34m=\u001b[0m\u001b[0;36m50\u001b[0m\u001b[0;34m,\u001b[0m\u001b[0mcolor_mode\u001b[0m\u001b[0;34m=\u001b[0m\u001b[0;34m\"grayscale\"\u001b[0m\u001b[0;34m)\u001b[0m\u001b[0;34m\u001b[0m\u001b[0;34m\u001b[0m\u001b[0m\n\u001b[0m",
            "\u001b[0;32m/usr/local/lib/python3.6/dist-packages/keras_preprocessing/image/image_data_generator.py\u001b[0m in \u001b[0;36mflow_from_directory\u001b[0;34m(self, directory, target_size, color_mode, classes, class_mode, batch_size, shuffle, seed, save_to_dir, save_prefix, save_format, follow_links, subset, interpolation)\u001b[0m\n\u001b[1;32m    536\u001b[0m             \u001b[0mfollow_links\u001b[0m\u001b[0;34m=\u001b[0m\u001b[0mfollow_links\u001b[0m\u001b[0;34m,\u001b[0m\u001b[0;34m\u001b[0m\u001b[0;34m\u001b[0m\u001b[0m\n\u001b[1;32m    537\u001b[0m             \u001b[0msubset\u001b[0m\u001b[0;34m=\u001b[0m\u001b[0msubset\u001b[0m\u001b[0;34m,\u001b[0m\u001b[0;34m\u001b[0m\u001b[0;34m\u001b[0m\u001b[0m\n\u001b[0;32m--> 538\u001b[0;31m             \u001b[0minterpolation\u001b[0m\u001b[0;34m=\u001b[0m\u001b[0minterpolation\u001b[0m\u001b[0;34m\u001b[0m\u001b[0;34m\u001b[0m\u001b[0m\n\u001b[0m\u001b[1;32m    539\u001b[0m         )\n\u001b[1;32m    540\u001b[0m \u001b[0;34m\u001b[0m\u001b[0m\n",
            "\u001b[0;32m/usr/local/lib/python3.6/dist-packages/keras_preprocessing/image/directory_iterator.py\u001b[0m in \u001b[0;36m__init__\u001b[0;34m(self, directory, image_data_generator, target_size, color_mode, classes, class_mode, batch_size, shuffle, seed, data_format, save_to_dir, save_prefix, save_format, follow_links, subset, interpolation, dtype)\u001b[0m\n\u001b[1;32m    103\u001b[0m         \u001b[0;32mif\u001b[0m \u001b[0;32mnot\u001b[0m \u001b[0mclasses\u001b[0m\u001b[0;34m:\u001b[0m\u001b[0;34m\u001b[0m\u001b[0;34m\u001b[0m\u001b[0m\n\u001b[1;32m    104\u001b[0m             \u001b[0mclasses\u001b[0m \u001b[0;34m=\u001b[0m \u001b[0;34m[\u001b[0m\u001b[0;34m]\u001b[0m\u001b[0;34m\u001b[0m\u001b[0;34m\u001b[0m\u001b[0m\n\u001b[0;32m--> 105\u001b[0;31m             \u001b[0;32mfor\u001b[0m \u001b[0msubdir\u001b[0m \u001b[0;32min\u001b[0m \u001b[0msorted\u001b[0m\u001b[0;34m(\u001b[0m\u001b[0mos\u001b[0m\u001b[0;34m.\u001b[0m\u001b[0mlistdir\u001b[0m\u001b[0;34m(\u001b[0m\u001b[0mdirectory\u001b[0m\u001b[0;34m)\u001b[0m\u001b[0;34m)\u001b[0m\u001b[0;34m:\u001b[0m\u001b[0;34m\u001b[0m\u001b[0;34m\u001b[0m\u001b[0m\n\u001b[0m\u001b[1;32m    106\u001b[0m                 \u001b[0;32mif\u001b[0m \u001b[0mos\u001b[0m\u001b[0;34m.\u001b[0m\u001b[0mpath\u001b[0m\u001b[0;34m.\u001b[0m\u001b[0misdir\u001b[0m\u001b[0;34m(\u001b[0m\u001b[0mos\u001b[0m\u001b[0;34m.\u001b[0m\u001b[0mpath\u001b[0m\u001b[0;34m.\u001b[0m\u001b[0mjoin\u001b[0m\u001b[0;34m(\u001b[0m\u001b[0mdirectory\u001b[0m\u001b[0;34m,\u001b[0m \u001b[0msubdir\u001b[0m\u001b[0;34m)\u001b[0m\u001b[0;34m)\u001b[0m\u001b[0;34m:\u001b[0m\u001b[0;34m\u001b[0m\u001b[0;34m\u001b[0m\u001b[0m\n\u001b[1;32m    107\u001b[0m                     \u001b[0mclasses\u001b[0m\u001b[0;34m.\u001b[0m\u001b[0mappend\u001b[0m\u001b[0;34m(\u001b[0m\u001b[0msubdir\u001b[0m\u001b[0;34m)\u001b[0m\u001b[0;34m\u001b[0m\u001b[0;34m\u001b[0m\u001b[0m\n",
            "\u001b[0;31mFileNotFoundError\u001b[0m: [Errno 2] No such file or directory: 'train'"
          ]
        }
      ]
    },
    {
      "cell_type": "code",
      "metadata": {
        "id": "lEURVofhK_sL",
        "colab_type": "code",
        "colab": {}
      },
      "source": [
        "x_test = np.empty(shape=(0,224,224,1))\n",
        "y_test = np.empty(shape=(0,))"
      ],
      "execution_count": 0,
      "outputs": []
    },
    {
      "cell_type": "code",
      "metadata": {
        "id": "jzV3HkvZLBC6",
        "colab_type": "code",
        "colab": {}
      },
      "source": [
        "for c in [\"brightpixel\",\"narrowband\",\"narrowbanddrd\",\"noise\",\"squarepulsednarrowband\",\"squiggle\",\"squigglesquarepulsednarrowband\"]:\n",
        "  dir = os.path.join(\"test\", c)\n",
        "  temx=[]\n",
        "  temy=[]\n",
        "  for idx, file in enumerate(os.listdir(dir)):\n",
        "    im = cv2.imread(os.path.join(dir, file))\n",
        "    im = pp(im,True)\n",
        "    temx.insert(idx,im)\n",
        "    temy.insert(idx,c)\n",
        "  temx=np.array(temx)\n",
        "  temy=np.array(temy)\n",
        "  x_test=np.append(x_test,temx,axis=0)\n",
        "  y_test=np.append(y_test,temy,axis=0)\n",
        "    "
      ],
      "execution_count": 0,
      "outputs": []
    },
    {
      "cell_type": "code",
      "metadata": {
        "id": "yonoovm1LCmM",
        "colab_type": "code",
        "colab": {}
      },
      "source": [
        "x_valid = np.empty(shape=(0,224,224,1))\n",
        "y_valid = np.empty(shape=(0,))"
      ],
      "execution_count": 0,
      "outputs": []
    },
    {
      "cell_type": "code",
      "metadata": {
        "id": "etRbcpT2LEMZ",
        "colab_type": "code",
        "colab": {}
      },
      "source": [
        "for c in [\"brightpixel\",\"narrowband\",\"narrowbanddrd\",\"noise\",\"squarepulsednarrowband\",\"squiggle\",\"squigglesquarepulsednarrowband\"]:\n",
        "  dir = os.path.join(\"valid\", c)\n",
        "  temx=[]\n",
        "  temy=[]\n",
        "  for idx, file in enumerate(os.listdir(dir)):\n",
        "    im = cv2.imread(os.path.join(dir, file))\n",
        "    im = pp(im,True)\n",
        "    temx.insert(idx,im)\n",
        "    temy.insert(idx,c)\n",
        "  temx=np.array(temx)\n",
        "  temy=np.array(temy)\n",
        "  x_valid=np.append(x_test,temx,axis=0)\n",
        "  y_valid=np.append(y_test,temy,axis=0)"
      ],
      "execution_count": 0,
      "outputs": []
    },
    {
      "cell_type": "code",
      "metadata": {
        "id": "0FttGV0LLFrt",
        "colab_type": "code",
        "colab": {}
      },
      "source": [
        "from sklearn.preprocessing import LabelEncoder\n",
        "from keras.utils.np_utils import to_categorical\n",
        "\n",
        "enc = LabelEncoder()\n",
        "enc.fit(y_test)\n",
        "enc = enc.transform(y_test)\n",
        "y_test = to_categorical(enc,7)\n",
        "y_test = np.argmax(y_test, axis=1)"
      ],
      "execution_count": 0,
      "outputs": []
    },
    {
      "cell_type": "code",
      "metadata": {
        "id": "afxbVRbcLHQe",
        "colab_type": "code",
        "colab": {}
      },
      "source": [
        "enc = LabelEncoder()\n",
        "enc.fit(y_valid)\n",
        "enc = enc.transform(y_valid)\n",
        "y_valid = to_categorical(enc,7)\n",
        "#y_valid = np.argmax(y_valid, axis=1)"
      ],
      "execution_count": 0,
      "outputs": []
    },
    {
      "cell_type": "code",
      "metadata": {
        "id": "v2FXzOcXLIsW",
        "colab_type": "code",
        "colab": {}
      },
      "source": [
        "from keras.models import Sequential,Model\n",
        "from keras.optimizers import Adam\n",
        "from keras.regularizers import l1\n",
        "from keras.layers import Dense, LeakyReLU, Flatten, Dropout,Activation,Input,BatchNormalization,GlobalAveragePooling2D,Concatenate,concatenate\n",
        "from keras.layers.convolutional import Conv2D, MaxPooling2D, AveragePooling2D"
      ],
      "execution_count": 0,
      "outputs": []
    },
    {
      "cell_type": "code",
      "metadata": {
        "id": "6MVvxj5yOMhL",
        "colab_type": "code",
        "colab": {}
      },
      "source": [
        "def conv2d_bn(x,\n",
        "              filters,\n",
        "              num_row,\n",
        "              num_col,\n",
        "              padding='same',\n",
        "              strides=(1, 1),\n",
        "              name=None):\n",
        "   \n",
        "    if name is not None:\n",
        "        bn_name = name + '_bn'\n",
        "        conv_name = name + '_conv'\n",
        "    else:\n",
        "        bn_name = None\n",
        "        conv_name = None\n",
        "    \n",
        "    bn_axis = 3\n",
        "   \n",
        "    x = Conv2D(\n",
        "        filters, (num_row, num_col),\n",
        "        strides=strides,\n",
        "        padding=padding,\n",
        "        use_bias=False,\n",
        "        name=conv_name)(x)\n",
        "    x = BatchNormalization(axis=bn_axis, scale=False, name=bn_name)(x)\n",
        "    x = Activation('relu', name=name)(x)\n",
        "    return x"
      ],
      "execution_count": 0,
      "outputs": []
    },
    {
      "cell_type": "code",
      "metadata": {
        "id": "vbacejfTLKGW",
        "colab_type": "code",
        "colab": {}
      },
      "source": [
        "\n",
        "img_input = Input(shape=(224,224,1))\n",
        "channel_axis = 3\n",
        "x = conv2d_bn(img_input, 32, 3, 3, strides=(2, 2), padding='valid')\n",
        "x = conv2d_bn(x, 32, 3, 3, padding='valid')\n",
        "x = conv2d_bn(x, 64, 3, 3)\n",
        "x = MaxPooling2D((3, 3), strides=(2, 2))(x)\n",
        "\n",
        "\n",
        "\n",
        "x = conv2d_bn(x, 80, 1, 1, padding='valid')\n",
        "x = conv2d_bn(x, 192, 3, 3, padding='valid')\n",
        "x = MaxPooling2D((3, 3), strides=(2, 2))(x)\n",
        "\n",
        "    # mixed 0: 35 x 35 x 256\n",
        "branch1x1 = conv2d_bn(x, 64, 1, 1)\n",
        "\n",
        "branch5x5 = conv2d_bn(x, 48, 1, 1)\n",
        "branch5x5 = conv2d_bn(branch5x5, 64, 5, 5)\n",
        "\n",
        "branch3x3dbl = conv2d_bn(x, 64, 1, 1)\n",
        "branch3x3dbl = conv2d_bn(branch3x3dbl, 128, 3, 3)\n",
        "branch3x3dbl = conv2d_bn(branch3x3dbl, 256, 3, 3)\n",
        "\n",
        "branch_pool = AveragePooling2D((3, 3),strides=(1, 1),padding='same')(x)\n",
        "branch_pool = conv2d_bn(branch_pool, 32, 1, 1)\n",
        "x = concatenate([branch1x1, branch5x5, branch3x3dbl, branch_pool],axis=channel_axis,name='mixed0')\n",
        "\n",
        "    # mixed 1: 35 x 35 x 288\n",
        "branch1x1 = conv2d_bn(x, 64, 1, 1)\n",
        "\n",
        "branch5x5 = conv2d_bn(x, 48, 1, 1)\n",
        "branch5x5 = conv2d_bn(branch5x5, 64, 5, 5)\n",
        "\n",
        "branch3x3dbl = conv2d_bn(x, 64, 1, 1)\n",
        "branch3x3dbl = conv2d_bn(branch3x3dbl, 512, 3, 3)\n",
        "\n",
        "branch_pool = AveragePooling2D((3, 3),strides=(1, 1),padding='same')(x)\n",
        "branch_pool = conv2d_bn(branch_pool, 64, 1, 1)\n",
        "x =concatenate([branch1x1, branch5x5, branch3x3dbl, branch_pool],axis=channel_axis,name='mixed1')\n",
        "    # mixed 2: 35 x 35 x 288\n",
        "branch1x1 = conv2d_bn(x, 64, 1, 1)\n",
        "\n",
        "branch5x5 = conv2d_bn(x, 48, 1, 1)\n",
        "branch5x5 = conv2d_bn(branch5x5, 64, 5, 5)\n",
        "\n",
        "branch3x3dbl = conv2d_bn(x, 64, 1, 1)\n",
        "branch3x3dbl = conv2d_bn(branch3x3dbl, 128, 3, 3)\n",
        "\n",
        "branch_pool = AveragePooling2D((3, 3),strides=(1, 1),padding='same')(x)\n",
        "branch_pool = conv2d_bn(branch_pool, 64, 1, 1)\n",
        "x = concatenate([branch1x1, branch5x5, branch3x3dbl, branch_pool],axis=channel_axis,name='mixed2')\n",
        "\n",
        "    # mixed 3: 17 x 17 x 768\n",
        "branch3x3 = conv2d_bn(x, 384, 3, 3, strides=(2, 2), padding='valid')\n",
        "branch3x3dbl = conv2d_bn(x, 64, 1, 1)\n",
        "branch3x3dbl = conv2d_bn(branch3x3dbl, 512, 3, 3, strides=(2, 2), padding='valid')\n",
        "\n",
        "branch_pool = MaxPooling2D((3, 3), strides=(2, 2))(x)\n",
        "x = concatenate([branch3x3, branch3x3dbl, branch_pool],axis=channel_axis,name='mixed3')\n",
        "\n",
        "    # mixed 4: 17 x 17 x 768\n",
        "branch1x1 = conv2d_bn(x, 192, 1, 1)\n",
        "\n",
        "branch7x7 = conv2d_bn(x, 128, 1, 1)\n",
        "branch7x7 = conv2d_bn(branch7x7, 128, 1, 7)\n",
        "branch7x7 = conv2d_bn(branch7x7, 192, 7, 1)\n",
        "\n",
        "branch7x7dbl = conv2d_bn(x, 128, 1, 1)\n",
        "branch7x7dbl = conv2d_bn(branch7x7dbl, 128, 7, 1)\n",
        "branch7x7dbl = conv2d_bn(branch7x7dbl, 128, 1, 7)\n",
        "branch7x7dbl = conv2d_bn(branch7x7dbl, 128, 7, 1)\n",
        "branch7x7dbl = conv2d_bn(branch7x7dbl, 192, 1, 7)\n",
        "\n",
        "branch_pool = AveragePooling2D((3, 3),strides=(1, 1),padding='same')(x)\n",
        "branch_pool = conv2d_bn(branch_pool, 192, 1, 1)\n",
        "x = concatenate([branch1x1, branch7x7, branch7x7dbl, branch_pool],axis=channel_axis,name='mixed4')\n",
        "\n",
        "    # mixed 5, 6: 17 x 17 x 768\n",
        "for i in range(2):\n",
        "    branch1x1 = conv2d_bn(x, 192, 1, 1)\n",
        "\n",
        "    branch7x7 = conv2d_bn(x, 160, 1, 1)\n",
        "    branch7x7 = conv2d_bn(branch7x7, 160, 1, 7)\n",
        "    branch7x7 = conv2d_bn(branch7x7, 192, 7, 1)\n",
        "\n",
        "    branch7x7dbl = conv2d_bn(x, 160, 1, 1)\n",
        "    branch7x7dbl = conv2d_bn(branch7x7dbl, 160, 7, 1)\n",
        "    branch7x7dbl = conv2d_bn(branch7x7dbl, 160, 1, 7)\n",
        "    branch7x7dbl = conv2d_bn(branch7x7dbl, 160, 7, 1)\n",
        "    branch7x7dbl = conv2d_bn(branch7x7dbl, 192, 1, 7)\n",
        "    branch_pool = AveragePooling2D((3, 3), strides=(1, 1), padding='same')(x)\n",
        "    branch_pool = conv2d_bn(branch_pool, 192, 1, 1)\n",
        "    x = concatenate([branch1x1, branch7x7, branch7x7dbl, branch_pool],axis=channel_axis,name='mixed' + str(5 + i))\n",
        "\n",
        "    # mixed 7: 17 x 17 x 768\n",
        "branch1x1 = conv2d_bn(x, 192, 1, 1)\n",
        "\n",
        "branch7x7 = conv2d_bn(x, 192, 1, 1)\n",
        "branch7x7 = conv2d_bn(branch7x7, 192, 1, 7)\n",
        "branch7x7 = conv2d_bn(branch7x7, 192, 7, 1)\n",
        "\n",
        "branch7x7dbl = conv2d_bn(x, 192, 1, 1)\n",
        "branch7x7dbl = conv2d_bn(branch7x7dbl, 192, 7, 1)\n",
        "branch7x7dbl = conv2d_bn(branch7x7dbl, 192, 1, 7)\n",
        "branch7x7dbl = conv2d_bn(branch7x7dbl, 192, 7, 1)\n",
        "branch7x7dbl = conv2d_bn(branch7x7dbl, 192, 1, 7)\n",
        "\n",
        "branch_pool = AveragePooling2D((3, 3),\n",
        "                                          strides=(1, 1),\n",
        "                                          padding='same')(x)\n",
        "branch_pool = conv2d_bn(branch_pool, 192, 1, 1)\n",
        "x = concatenate(\n",
        "        [branch1x1, branch7x7, branch7x7dbl, branch_pool],\n",
        "        axis=channel_axis,\n",
        "        name='mixed7')\n",
        "\n",
        "    # mixed 8: 8 x 8 x 1280\n",
        "branch3x3 = conv2d_bn(x, 192, 1, 1)\n",
        "branch3x3 = conv2d_bn(branch3x3, 320, 3, 3,\n",
        "                          strides=(2, 2), padding='valid')\n",
        "\n",
        "branch7x7x3 = conv2d_bn(x, 192, 1, 1)\n",
        "branch7x7x3 = conv2d_bn(branch7x7x3, 192, 1, 7)\n",
        "branch7x7x3 = conv2d_bn(branch7x7x3, 192, 7, 1)\n",
        "branch7x7x3 = conv2d_bn(\n",
        "        branch7x7x3, 192, 3, 3, strides=(2, 2), padding='valid')\n",
        "\n",
        "branch_pool = MaxPooling2D((3, 3), strides=(2, 2))(x)\n",
        "x = concatenate(\n",
        "        [branch3x3, branch7x7x3, branch_pool],\n",
        "        axis=channel_axis,\n",
        "        name='mixed8')\n",
        "\n",
        "    # mixed 9: 8 x 8 x 2048\n",
        "for i in range(1):\n",
        "    branch1x1 = conv2d_bn(x, 320, 1, 1)\n",
        "\n",
        "    branch3x3 = conv2d_bn(x, 384, 1, 1)\n",
        "    branch3x3_1 = conv2d_bn(branch3x3, 384, 1, 3)\n",
        "    branch3x3_2 = conv2d_bn(branch3x3, 384, 3, 1)\n",
        "    branch3x3 = concatenate(\n",
        "            [branch3x3_1, branch3x3_2],\n",
        "            axis=channel_axis,\n",
        "            name='mixed9_' + str(i))\n",
        "\n",
        "    branch3x3dbl = conv2d_bn(x, 448, 1, 1)\n",
        "    branch3x3dbl = conv2d_bn(branch3x3dbl, 384, 3, 3)\n",
        "    branch3x3dbl_1 = conv2d_bn(branch3x3dbl, 384, 1, 3)\n",
        "    branch3x3dbl_2 = conv2d_bn(branch3x3dbl, 384, 3, 1)\n",
        "    branch3x3dbl = concatenate(\n",
        "            [branch3x3dbl_1, branch3x3dbl_2], axis=channel_axis)\n",
        "\n",
        "    branch_pool = AveragePooling2D(\n",
        "            (3, 3), strides=(1, 1), padding='same')(x)\n",
        "    branch_pool = conv2d_bn(branch_pool, 192, 1, 1)\n",
        "    x = concatenate(\n",
        "            [branch1x1, branch3x3, branch3x3dbl, branch_pool],\n",
        "            axis=channel_axis,\n",
        "            name='mixed' + str(9 + i))\n",
        " \n",
        "        # Classification block\n",
        "x = GlobalAveragePooling2D(name='avg_pool')(x)\n",
        "x = Dense(7, activation='softmax', name='predictions')(x)\n"
      ],
      "execution_count": 0,
      "outputs": []
    },
    {
      "cell_type": "code",
      "metadata": {
        "id": "3fOkS4DiOwEt",
        "colab_type": "code",
        "colab": {}
      },
      "source": [
        "model=Model(img_input, x, name='inception_v3')\n",
        "model.summary()"
      ],
      "execution_count": 0,
      "outputs": []
    },
    {
      "cell_type": "code",
      "metadata": {
        "id": "XVSs2SZpZfft",
        "colab_type": "code",
        "colab": {}
      },
      "source": [
        "opt=Adam(lr=0.0015)\n",
        "model.compile(optimizer=opt, loss='categorical_crossentropy', metrics=[\"accuracy\"])"
      ],
      "execution_count": 0,
      "outputs": []
    },
    {
      "cell_type": "code",
      "metadata": {
        "id": "OghZG39raNR9",
        "colab_type": "code",
        "colab": {}
      },
      "source": [
        "his = model.fit_generator(train,epochs=50,steps_per_epoch=100,validation_data=(x_valid, y_valid),shuffle=True,verbose=1)"
      ],
      "execution_count": 0,
      "outputs": []
    },
    {
      "cell_type": "code",
      "metadata": {
        "id": "vSwSC2R0aDTV",
        "colab_type": "code",
        "colab": {}
      },
      "source": [
        "from keras.wrappers.scikit_learn import KerasClassifier\n",
        "from sklearn.metrics import confusion_matrix, classification_report, accuracy_score\n",
        "import matplotlib.pyplot as plt\n",
        "%matplotlib inline"
      ],
      "execution_count": 0,
      "outputs": []
    },
    {
      "cell_type": "code",
      "metadata": {
        "id": "vj9241IgbH8l",
        "colab_type": "code",
        "outputId": "f45416c4-fe7c-4340-9588-a6f761d4cd7c",
        "colab": {
          "base_uri": "https://localhost:8080/",
          "height": 294
        }
      },
      "source": [
        "plt.plot(his.history['loss'],'--k')\n",
        "plt.plot(his.history['val_loss'],':b')\n",
        "plt.title('Loss vs. epoch')\n",
        "plt.ylabel('LOSS')\n",
        "plt.xlabel('EPOCH')\n",
        "plt.legend(['TRAINING', 'TESTING'], loc='best')\n",
        "\n",
        "\n",
        "plt.show()"
      ],
      "execution_count": 0,
      "outputs": [
        {
          "output_type": "display_data",
          "data": {
            "image/png": "[encoded data removed]",
            "text/plain": [
              "<Figure size 432x288 with 1 Axes>"
            ]
          },
          "metadata": {
            "tags": []
          }
        }
      ]
    },
    {
      "cell_type": "code",
      "metadata": {
        "id": "vk3ZrdW-bJcH",
        "colab_type": "code",
        "outputId": "eaeabd56-bf48-4178-ccbc-1da5e61475b4",
        "colab": {
          "base_uri": "https://localhost:8080/",
          "height": 294
        }
      },
      "source": [
        "plt.plot(his.history['loss'],'--k')\n",
        "plt.plot(his.history['val_loss'],':b')\n",
        "plt.title('Loss vs. epoch')\n",
        "plt.ylabel('LOSS')\n",
        "plt.xlabel('EPOCH')\n",
        "plt.legend(['TRAINING', 'TESTING'], loc='best')\n",
        "axes = plt.gca()\n",
        "axes.set_ylim([0,100])\n",
        "\n",
        "plt.show()"
      ],
      "execution_count": 0,
      "outputs": [
        {
          "output_type": "display_data",
          "data": {
            "image/png": "[encoded data removed]",
            "text/plain": [
              "<Figure size 432x288 with 1 Axes>"
            ]
          },
          "metadata": {
            "tags": []
          }
        }
      ]
    },
    {
      "cell_type": "code",
      "metadata": {
        "id": "FSY9k0aGbLC9",
        "colab_type": "code",
        "outputId": "fdf205e6-fe39-413f-90d8-22c37bd4c37b",
        "colab": {
          "base_uri": "https://localhost:8080/",
          "height": 294
        }
      },
      "source": [
        "plt.plot(his.history['loss'],'--k')\n",
        "plt.plot(his.history['val_loss'],':b')\n",
        "plt.title('Loss vs. epoch')\n",
        "plt.ylabel('LOSS')\n",
        "plt.xlabel('EPOCH')\n",
        "plt.legend(['TRAINING', 'TESTING'], loc='best')\n",
        "axes = plt.gca()\n",
        "axes.set_ylim([0,13])\n",
        "\n",
        "plt.show()"
      ],
      "execution_count": 0,
      "outputs": [
        {
          "output_type": "display_data",
          "data": {
            "image/png": "[encoded data removed]",
            "text/plain": [
              "<Figure size 432x288 with 1 Axes>"
            ]
          },
          "metadata": {
            "tags": []
          }
        }
      ]
    },
    {
      "cell_type": "code",
      "metadata": {
        "id": "XYzP98t4bMpR",
        "colab_type": "code",
        "outputId": "57ddfbee-b46c-4fc8-d442-adcb2d36e2a4",
        "colab": {
          "base_uri": "https://localhost:8080/",
          "height": 294
        }
      },
      "source": [
        "plt.plot(his.history['acc'],'--k')\n",
        "plt.plot(his.history['val_acc'],':b')\n",
        "plt.title('Accuracy vs. epoch')\n",
        "plt.ylabel('ACCURACY')\n",
        "plt.xlabel('EPOCH')\n",
        "plt.legend(['TRAINING', 'TESTING'], loc='best')\n",
        "\n",
        "plt.show()"
      ],
      "execution_count": 0,
      "outputs": [
        {
          "output_type": "display_data",
          "data": {
            "image/png": "[encoded data removed]",
            "text/plain": [
              "<Figure size 432x288 with 1 Axes>"
            ]
          },
          "metadata": {
            "tags": []
          }
        }
      ]
    },
    {
      "cell_type": "code",
      "metadata": {
        "id": "VMbtDcwkbOe_",
        "colab_type": "code",
        "outputId": "465c0a39-020c-4cfb-e6a0-ae83f4031029",
        "colab": {
          "base_uri": "https://localhost:8080/",
          "height": 294
        }
      },
      "source": [
        "plt.plot(his.history['acc'],'--k')\n",
        "plt.plot(his.history['val_acc'],':b')\n",
        "plt.title('Accuracy vs. epoch')\n",
        "plt.ylabel('ACCURACY')\n",
        "plt.xlabel('EPOCH')\n",
        "plt.legend(['TRAINING', 'TESTING'], loc='best')\n",
        "axes = plt.gca()\n",
        "axes.set_ylim([0,1])\n",
        "plt.show()"
      ],
      "execution_count": 0,
      "outputs": [
        {
          "output_type": "display_data",
          "data": {
            "image/png": "[encoded data removed]",
            "text/plain": [
              "<Figure size 432x288 with 1 Axes>"
            ]
          },
          "metadata": {
            "tags": []
          }
        }
      ]
    },
    {
      "cell_type": "code",
      "metadata": {
        "id": "qvQg-qInbQGr",
        "colab_type": "code",
        "outputId": "68e0f7ad-4d0e-44da-a55a-45be8f408b37",
        "colab": {
          "base_uri": "https://localhost:8080/",
          "height": 294
        }
      },
      "source": [
        "plt.plot(his.history['acc'],'--k')\n",
        "plt.plot(his.history['val_acc'],':b')\n",
        "plt.title('Accuracy vs. epoch')\n",
        "plt.ylabel('ACCURACY')\n",
        "plt.xlabel('EPOCH')\n",
        "plt.legend(['TRAINING', 'TESTING'], loc='best')\n",
        "axes = plt.gca()\n",
        "axes.set_ylim([0.1,0.9])\n",
        "plt.show()"
      ],
      "execution_count": 0,
      "outputs": [
        {
          "output_type": "display_data",
          "data": {
            "image/png": "[encoded data removed]",
            "text/plain": [
              "<Figure size 432x288 with 1 Axes>"
            ]
          },
          "metadata": {
            "tags": []
          }
        }
      ]
    },
    {
      "cell_type": "code",
      "metadata": {
        "id": "2S-nYVbMbRyh",
        "colab_type": "code",
        "outputId": "9a8e3fc7-1226-490a-9aed-39e6975b6b96",
        "colab": {
          "base_uri": "https://localhost:8080/",
          "height": 442
        }
      },
      "source": [
        "from keras.models import load_model\n",
        "model.save('inceptionnet.h5')\n",
        "model = load_model('inceptionnet.h5')\n",
        "from google.colab import files\n",
        "files.download('inceptionnet.h5') "
      ],
      "execution_count": 0,
      "outputs": [
        {
          "output_type": "stream",
          "text": [
            "----------------------------------------\n",
            "Exception happened during processing of request from ('::ffff:127.0.0.1', 52912, 0, 0)\n",
            "Traceback (most recent call last):\n",
            "  File \"/usr/lib/python3.6/socketserver.py\", line 317, in _handle_request_noblock\n",
            "    self.process_request(request, client_address)\n",
            "  File \"/usr/lib/python3.6/socketserver.py\", line 348, in process_request\n",
            "    self.finish_request(request, client_address)\n",
            "  File \"/usr/lib/python3.6/socketserver.py\", line 361, in finish_request\n",
            "    self.RequestHandlerClass(request, client_address, self)\n",
            "  File \"/usr/lib/python3.6/socketserver.py\", line 721, in __init__\n",
            "    self.handle()\n",
            "  File \"/usr/lib/python3.6/http/server.py\", line 418, in handle\n",
            "    self.handle_one_request()\n",
            "  File \"/usr/lib/python3.6/http/server.py\", line 406, in handle_one_request\n",
            "    method()\n",
            "  File \"/usr/lib/python3.6/http/server.py\", line 639, in do_GET\n",
            "    self.copyfile(f, self.wfile)\n",
            "  File \"/usr/lib/python3.6/http/server.py\", line 800, in copyfile\n",
            "    shutil.copyfileobj(source, outputfile)\n",
            "  File \"/usr/lib/python3.6/shutil.py\", line 82, in copyfileobj\n",
            "    fdst.write(buf)\n",
            "  File \"/usr/lib/python3.6/socketserver.py\", line 800, in write\n",
            "    self._sock.sendall(b)\n",
            "ConnectionResetError: [Errno 104] Connection reset by peer\n",
            "----------------------------------------\n"
          ],
          "name": "stderr"
        }
      ]
    },
    {
      "cell_type": "code",
      "metadata": {
        "id": "HG_jS5UjbbnU",
        "colab_type": "code",
        "outputId": "72b8d7e4-3245-46df-cb2e-e311adadb2e0",
        "colab": {
          "base_uri": "https://localhost:8080/",
          "height": 442
        }
      },
      "source": [
        "import pickle\n",
        "\n",
        "f = open('his_inc.pckl', 'wb')\n",
        "pickle.dump(his, f)\n",
        "f.close()\n",
        "\n",
        "f = open('his_inc.pckl', 'rb')\n",
        "his = pickle.load(f)\n",
        "f.close()\n",
        "\n",
        "files.download('his_inc.pckl') "
      ],
      "execution_count": 0,
      "outputs": [
        {
          "output_type": "stream",
          "text": [
            "----------------------------------------\n",
            "Exception happened during processing of request from ('::ffff:127.0.0.1', 36496, 0, 0)\n",
            "Traceback (most recent call last):\n",
            "  File \"/usr/lib/python3.6/socketserver.py\", line 317, in _handle_request_noblock\n",
            "    self.process_request(request, client_address)\n",
            "  File \"/usr/lib/python3.6/socketserver.py\", line 348, in process_request\n",
            "    self.finish_request(request, client_address)\n",
            "  File \"/usr/lib/python3.6/socketserver.py\", line 361, in finish_request\n",
            "    self.RequestHandlerClass(request, client_address, self)\n",
            "  File \"/usr/lib/python3.6/socketserver.py\", line 721, in __init__\n",
            "    self.handle()\n",
            "  File \"/usr/lib/python3.6/http/server.py\", line 418, in handle\n",
            "    self.handle_one_request()\n",
            "  File \"/usr/lib/python3.6/http/server.py\", line 406, in handle_one_request\n",
            "    method()\n",
            "  File \"/usr/lib/python3.6/http/server.py\", line 639, in do_GET\n",
            "    self.copyfile(f, self.wfile)\n",
            "  File \"/usr/lib/python3.6/http/server.py\", line 800, in copyfile\n",
            "    shutil.copyfileobj(source, outputfile)\n",
            "  File \"/usr/lib/python3.6/shutil.py\", line 82, in copyfileobj\n",
            "    fdst.write(buf)\n",
            "  File \"/usr/lib/python3.6/socketserver.py\", line 800, in write\n",
            "    self._sock.sendall(b)\n",
            "ConnectionResetError: [Errno 104] Connection reset by peer\n",
            "----------------------------------------\n"
          ],
          "name": "stderr"
        }
      ]
    },
    {
      "cell_type": "code",
      "metadata": {
        "id": "NwXHnPlFbfmT",
        "colab_type": "code",
        "colab": {}
      },
      "source": [
        "#y_hat = model.predict_classes(x_test)\n"
      ],
      "execution_count": 0,
      "outputs": []
    },
    {
      "cell_type": "code",
      "metadata": {
        "id": "NtJZW1OMqyRu",
        "colab_type": "code",
        "colab": {}
      },
      "source": [
        "y_hat = model.predict(x_test)"
      ],
      "execution_count": 0,
      "outputs": []
    },
    {
      "cell_type": "code",
      "metadata": {
        "id": "kQyIwwOpq0cf",
        "colab_type": "code",
        "colab": {}
      },
      "source": [
        "y_hat=np.argmax(y_hat,axis=1)"
      ],
      "execution_count": 0,
      "outputs": []
    },
    {
      "cell_type": "code",
      "metadata": {
        "id": "pOkAxjrYbhS8",
        "colab_type": "code",
        "outputId": "847ce4c0-8561-4dad-caf9-c7d6a11e1c02",
        "colab": {
          "base_uri": "https://localhost:8080/",
          "height": 272
        }
      },
      "source": [
        "print(\"Classification Report\")\n",
        "print(classification_report(y_test, y_hat, digits=5))"
      ],
      "execution_count": 0,
      "outputs": [
        {
          "output_type": "stream",
          "text": [
            "Classification Report\n",
            "              precision    recall  f1-score   support\n",
            "\n",
            "           0    0.73636   0.81000   0.77143       100\n",
            "           1    0.69231   0.45000   0.54545       100\n",
            "           2    0.90385   0.47000   0.61842       100\n",
            "           3    0.68224   0.73000   0.70531       100\n",
            "           4    0.91429   0.32000   0.47407       100\n",
            "           5    0.51053   0.97000   0.66897       100\n",
            "           6    0.63830   0.90000   0.74689       100\n",
            "\n",
            "   micro avg    0.66429   0.66429   0.66429       700\n",
            "   macro avg    0.72541   0.66429   0.64722       700\n",
            "weighted avg    0.72541   0.66429   0.64722       700\n",
            "\n"
          ],
          "name": "stdout"
        }
      ]
    },
    {
      "cell_type": "code",
      "metadata": {
        "id": "AoXAZtAubjAM",
        "colab_type": "code",
        "outputId": "bc752e50-1378-437a-d39e-5800faa562fd",
        "colab": {
          "base_uri": "https://localhost:8080/",
          "height": 34
        }
      },
      "source": [
        "print(\"ACCURACY:\",(accuracy_score(y_test, y_hat)))"
      ],
      "execution_count": 0,
      "outputs": [
        {
          "output_type": "stream",
          "text": [
            "ACCURACY: 0.6642857142857143\n"
          ],
          "name": "stdout"
        }
      ]
    },
    {
      "cell_type": "code",
      "metadata": {
        "id": "7np5aqAAbkaa",
        "colab_type": "code",
        "colab": {}
      },
      "source": [
        ""
      ],
      "execution_count": 0,
      "outputs": []
    }
  ]
}